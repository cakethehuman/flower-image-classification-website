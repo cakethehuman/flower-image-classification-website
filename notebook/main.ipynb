{
 "cells": [
  {
   "cell_type": "code",
   "execution_count": 2,
   "id": "757a0a18",
   "metadata": {},
   "outputs": [],
   "source": [
    "import os\n",
    "import numpy as np\n",
    "\n",
    "import tensorflow as tf\n",
    "from tensorflow.keras import layers\n",
    "from tensorflow.keras.preprocessing.image import load_img,ImageDataGenerator\n",
    "from tensorflow.keras.models import Sequential, load_model\n",
    "from tensorflow.keras.layers import Conv2D,MaxPool2D, Dense , Dropout, Flatten\n",
    "\n",
    "\n"
   ]
  },
  {
   "cell_type": "code",
   "execution_count": 42,
   "id": "682e1a47",
   "metadata": {},
   "outputs": [
    {
     "name": "stdout",
     "output_type": "stream",
     "text": [
      "daisy have 764 total\n",
      "dandelion have 1052 total\n",
      "rose have 784 total\n",
      "sunflower have 733 total\n",
      "tulip have 984 total\n",
      "total_amount = 4317\n"
     ]
    }
   ],
   "source": [
    "file_location = r\"C:\\Users\\wilsen\\OneDrive\\Desktop\\image classification\\flowers/\"\n",
    "count = 0\n",
    "fetch_images = os.listdir(file_location)\n",
    "for images_in_files in fetch_images:\n",
    "    files = list(os.listdir(file_location + images_in_files))\n",
    "    count += len(files)\n",
    "    print(images_in_files + \" have \" + str(len(files)) + \" total\")\n",
    "print(\"total_amount = \" + str(count))"
   ]
  },
  {
   "cell_type": "code",
   "execution_count": null,
   "id": "fc7dcb2c",
   "metadata": {},
   "outputs": [],
   "source": []
  }
 ],
 "metadata": {
  "kernelspec": {
   "display_name": ".venv",
   "language": "python",
   "name": "python3"
  },
  "language_info": {
   "codemirror_mode": {
    "name": "ipython",
    "version": 3
   },
   "file_extension": ".py",
   "mimetype": "text/x-python",
   "name": "python",
   "nbconvert_exporter": "python",
   "pygments_lexer": "ipython3",
   "version": "3.13.1"
  }
 },
 "nbformat": 4,
 "nbformat_minor": 5
}
